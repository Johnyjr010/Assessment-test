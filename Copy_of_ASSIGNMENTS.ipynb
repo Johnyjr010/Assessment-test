{
  "nbformat": 4,
  "nbformat_minor": 0,
  "metadata": {
    "colab": {
      "provenance": []
    },
    "kernelspec": {
      "name": "python3",
      "display_name": "Python 3"
    },
    "language_info": {
      "name": "python"
    }
  },
  "cells": [
    {
      "cell_type": "markdown",
      "source": [
        "Week 1 Assignment1"
      ],
      "metadata": {
        "id": "RbM4mJNEeyOX"
      }
    },
    {
      "cell_type": "code",
      "execution_count": null,
      "metadata": {
        "colab": {
          "base_uri": "https://localhost:8080/"
        },
        "id": "nZ5yZM1RZepS",
        "outputId": "532008fb-da70-441e-b64f-6c61366574fc"
      },
      "outputs": [
        {
          "output_type": "stream",
          "name": "stdout",
          "text": [
            "Enter first number: 5\n",
            "Enter second numbers: 6\n",
            "6\n",
            "5\n"
          ]
        }
      ],
      "source": [
        "a=int(input(\"Enter first number: \"))\n",
        "b=int(input(\"Enter second numbers: \"))\n",
        "c=a\n",
        "a=b\n",
        "b=c\n",
        "print(a)\n",
        "print(b)"
      ]
    },
    {
      "cell_type": "markdown",
      "source": [
        "Week 1 Assignment 2"
      ],
      "metadata": {
        "id": "K3vEDhpOeBYJ"
      }
    },
    {
      "cell_type": "code",
      "execution_count": null,
      "metadata": {
        "id": "3lM-O-x2bneJ"
      },
      "outputs": [],
      "source": [
        "a=int(input(\"Enter a number: \"))\n",
        "b=int(input(\"Enter a number: \"))\n",
        "c=int(input(\"Enter a number: \"))\n",
        "if a>b>c:\n",
        "  print(a)\n",
        "elif b>a>c:\n",
        "  print(b)\n",
        "else:\n",
        "  print(c)"
      ]
    },
    {
      "cell_type": "code",
      "source": [
        "a=int(input(\"Enter a number: \"))\n",
        "b=int(input(\"Enter a number: \"))\n",
        "c=int(input(\"Enter a number: \"))\n",
        "if a<b<c:\n",
        "  print(a)\n",
        "elif b<a<c:\n",
        "  print(b)\n",
        "else:\n",
        "  print(c)"
      ],
      "metadata": {
        "id": "SSaJFqwHc3Si"
      },
      "execution_count": null,
      "outputs": []
    },
    {
      "cell_type": "markdown",
      "source": [
        "Week 2 Assignment 1"
      ],
      "metadata": {
        "id": "jRQCQxTJd_7t"
      }
    },
    {
      "cell_type": "code",
      "source": [
        "a=str(input(\"Enter a two digit number: \"))\n",
        "if a[0]>a[1]:\n",
        "  print(a[0])\n",
        "else:\n",
        "  print(a[1])\n"
      ],
      "metadata": {
        "id": "RBiLFdZ8eMGl"
      },
      "execution_count": null,
      "outputs": []
    },
    {
      "cell_type": "markdown",
      "source": [
        "Week 2 Assignment 2"
      ],
      "metadata": {
        "id": "qLBTIOWYgDHr"
      }
    },
    {
      "cell_type": "code",
      "source": [
        "a=str(input(\"Enter a number\"))\n",
        "n=len(a)\n",
        "print(len(a))\n",
        "if num[0]^3+num[1]^3+num[2]^3==a:\n",
        "  print(\"it is an amstrong number: \")\n",
        "else:\n",
        "  print(\"it is not an amstrong number: \")"
      ],
      "metadata": {
        "id": "3jzKS5h7gG6j",
        "colab": {
          "base_uri": "https://localhost:8080/",
          "height": 70
        },
        "outputId": "eaf8af40-6879-493f-aad6-a6883e9a8401"
      },
      "execution_count": 9,
      "outputs": [
        {
          "output_type": "stream",
          "name": "stdout",
          "text": [
            "Enter a number456\n",
            "3\n"
          ]
        },
        {
          "output_type": "execute_result",
          "data": {
            "text/plain": [
              "'\\nif num[0]^3+num[1]^3+num[2]^3==a:\\n  print(\"it is an amstrong number: \")\\nelse:\\n  print(\"it is not an amstrong number: \")\\n\\n'"
            ],
            "application/vnd.google.colaboratory.intrinsic+json": {
              "type": "string"
            }
          },
          "metadata": {},
          "execution_count": 9
        }
      ]
    },
    {
      "cell_type": "markdown",
      "source": [
        "Week 2 Assignment 3"
      ],
      "metadata": {
        "id": "vcfxPDe9kDWB"
      }
    },
    {
      "cell_type": "code",
      "source": [
        "a=str(input(\"enter a number: \"))\n",
        "i=1\n",
        "for i in a:\n",
        "  a[i]=a[-i]\n",
        "  i+=1\n",
        "print(a)\n"
      ],
      "metadata": {
        "colab": {
          "base_uri": "https://localhost:8080/",
          "height": 262
        },
        "id": "pNOoF0JvkCE-",
        "outputId": "c68380de-8f0b-48cd-dd9c-381d1d2d12d5"
      },
      "execution_count": 10,
      "outputs": [
        {
          "name": "stdout",
          "output_type": "stream",
          "text": [
            "enter a number: 21\n"
          ]
        },
        {
          "output_type": "error",
          "ename": "TypeError",
          "evalue": "ignored",
          "traceback": [
            "\u001b[0;31m---------------------------------------------------------------------------\u001b[0m",
            "\u001b[0;31mTypeError\u001b[0m                                 Traceback (most recent call last)",
            "\u001b[0;32m<ipython-input-10-f3cfcd228001>\u001b[0m in \u001b[0;36m<cell line: 3>\u001b[0;34m()\u001b[0m\n\u001b[1;32m      2\u001b[0m \u001b[0mi\u001b[0m\u001b[0;34m=\u001b[0m\u001b[0;36m1\u001b[0m\u001b[0;34m\u001b[0m\u001b[0;34m\u001b[0m\u001b[0m\n\u001b[1;32m      3\u001b[0m \u001b[0;32mfor\u001b[0m \u001b[0mi\u001b[0m \u001b[0;32min\u001b[0m \u001b[0ma\u001b[0m\u001b[0;34m:\u001b[0m\u001b[0;34m\u001b[0m\u001b[0;34m\u001b[0m\u001b[0m\n\u001b[0;32m----> 4\u001b[0;31m   \u001b[0ma\u001b[0m\u001b[0;34m[\u001b[0m\u001b[0mi\u001b[0m\u001b[0;34m]\u001b[0m\u001b[0;34m=\u001b[0m\u001b[0ma\u001b[0m\u001b[0;34m[\u001b[0m\u001b[0;34m-\u001b[0m\u001b[0mi\u001b[0m\u001b[0;34m]\u001b[0m\u001b[0;34m\u001b[0m\u001b[0;34m\u001b[0m\u001b[0m\n\u001b[0m\u001b[1;32m      5\u001b[0m   \u001b[0mi\u001b[0m\u001b[0;34m+=\u001b[0m\u001b[0;36m1\u001b[0m\u001b[0;34m\u001b[0m\u001b[0;34m\u001b[0m\u001b[0m\n\u001b[1;32m      6\u001b[0m \u001b[0mprint\u001b[0m\u001b[0;34m(\u001b[0m\u001b[0ma\u001b[0m\u001b[0;34m)\u001b[0m\u001b[0;34m\u001b[0m\u001b[0;34m\u001b[0m\u001b[0m\n",
            "\u001b[0;31mTypeError\u001b[0m: bad operand type for unary -: 'str'"
          ]
        }
      ]
    },
    {
      "cell_type": "markdown",
      "source": [
        "Week 3 Assignment 1"
      ],
      "metadata": {
        "id": "qKfVqbTQDeQs"
      }
    },
    {
      "cell_type": "code",
      "source": [
        "a=int(input(\"Enter start number: \"))\n",
        "b=int(input(\"Enter end number: \"))\n",
        "sum=0\n",
        "for i in range(a,b+1):\n",
        "  sum+=i**2\n",
        "\n",
        "print(sum)\n"
      ],
      "metadata": {
        "colab": {
          "base_uri": "https://localhost:8080/"
        },
        "id": "5oQaXcCiDlBy",
        "outputId": "2ba9965c-870e-4402-839b-48d704d9a47c"
      },
      "execution_count": 23,
      "outputs": [
        {
          "output_type": "stream",
          "name": "stdout",
          "text": [
            "Enter start number: 1\n",
            "Enter end number: 3\n",
            "14\n"
          ]
        }
      ]
    },
    {
      "cell_type": "markdown",
      "source": [
        "Week 3 Assignment 2"
      ],
      "metadata": {
        "id": "w5XLb_lWklSC"
      }
    },
    {
      "cell_type": "code",
      "source": [
        "\n",
        "n = int(input(\"Enter the number of terms you want in the Fibonacci series: \"))\n",
        "\n",
        "a, b = 0, 1\n",
        "\n",
        "if n <= 0:\n",
        "    print(\"Please enter a positive integer.\")\n",
        "elif n == 1:\n",
        "    print(\"Fibonacci Series:\")\n",
        "    print(a)\n",
        "else:\n",
        "    print(\"Fibonacci Series:\")\n",
        "    print(a)\n",
        "    print(b)\n",
        "    for _ in range(2, n):\n",
        "        c = a + b\n",
        "        a, b = b, c\n",
        "        print(c)\n"
      ],
      "metadata": {
        "id": "LFbwD-rXkoQK"
      },
      "execution_count": null,
      "outputs": []
    }
  ]
}